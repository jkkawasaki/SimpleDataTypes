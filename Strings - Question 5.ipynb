{
 "cells": [
  {
   "cell_type": "code",
   "execution_count": null,
   "id": "b091cb13-6f4c-4ba9-b021-95a19e3fbef1",
   "metadata": {},
   "outputs": [],
   "source": [
    "#Strings - Question 5\n",
    "#string = \"E. Coli\"\n",
    "#string[2]="
   ]
  },
  {
   "cell_type": "code",
   "execution_count": 1,
   "id": "fbcac85a-a414-44bf-8612-eb3d330b3744",
   "metadata": {},
   "outputs": [
    {
     "name": "stdout",
     "output_type": "stream",
     "text": [
      " \n"
     ]
    }
   ],
   "source": [
    "bac = \"E. Coli\"\n",
    "print(bac[2])"
   ]
  }
 ],
 "metadata": {
  "kernelspec": {
   "display_name": "Python 3 (ipykernel)",
   "language": "python",
   "name": "python3"
  },
  "language_info": {
   "codemirror_mode": {
    "name": "ipython",
    "version": 3
   },
   "file_extension": ".py",
   "mimetype": "text/x-python",
   "name": "python",
   "nbconvert_exporter": "python",
   "pygments_lexer": "ipython3",
   "version": "3.12.5"
  }
 },
 "nbformat": 4,
 "nbformat_minor": 5
}
