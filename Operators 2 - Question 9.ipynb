{
 "cells": [
  {
   "cell_type": "code",
   "execution_count": null,
   "id": "c2a65159-7761-4bd6-a104-c1da23a98ef4",
   "metadata": {},
   "outputs": [],
   "source": [
    "#Operators 2 - Question 9\n",
    "\n",
    "#Explain how the \"+\", addition operation works differently for integers and strings."
   ]
  },
  {
   "cell_type": "code",
   "execution_count": 2,
   "id": "cba57578-78d5-42c4-bb0d-24e3bd4bfc5a",
   "metadata": {},
   "outputs": [
    {
     "name": "stdout",
     "output_type": "stream",
     "text": [
      "8\n",
      "<class 'int'>\n"
     ]
    }
   ],
   "source": [
    "intAdd = 5+3\n",
    "print(intAdd)\n",
    "print(type(intAdd))"
   ]
  },
  {
   "cell_type": "code",
   "execution_count": 3,
   "id": "c663279a-b159-48aa-afc3-10d75ffbcabc",
   "metadata": {},
   "outputs": [
    {
     "name": "stdout",
     "output_type": "stream",
     "text": [
      "Hello world!\n",
      "<class 'str'>\n"
     ]
    }
   ],
   "source": [
    "strAdd = \"Hello \" + \"world!\"\n",
    "print(strAdd)\n",
    "print(type(strAdd))"
   ]
  }
 ],
 "metadata": {
  "kernelspec": {
   "display_name": "Python 3 (ipykernel)",
   "language": "python",
   "name": "python3"
  },
  "language_info": {
   "codemirror_mode": {
    "name": "ipython",
    "version": 3
   },
   "file_extension": ".py",
   "mimetype": "text/x-python",
   "name": "python",
   "nbconvert_exporter": "python",
   "pygments_lexer": "ipython3",
   "version": "3.12.5"
  }
 },
 "nbformat": 4,
 "nbformat_minor": 5
}
