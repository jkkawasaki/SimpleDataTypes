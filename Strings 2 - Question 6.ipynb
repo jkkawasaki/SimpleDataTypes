{
 "cells": [
  {
   "cell_type": "code",
   "execution_count": null,
   "id": "e61fe3bf-1b4b-4372-a08e-7e8780cc44c9",
   "metadata": {},
   "outputs": [],
   "source": [
    "#Strings 2 - Question 6\n",
    "\n",
    "#Oh no! My string has a typo!\n",
    "#string = \"I Bove python\"\n",
    "#No worries though. I'll just fix that.\n",
    "#string[2]=\"L\""
   ]
  },
  {
   "cell_type": "code",
   "execution_count": 2,
   "id": "96a2b8c3-8416-4ed0-8164-e2c57e84b351",
   "metadata": {},
   "outputs": [
    {
     "ename": "TypeError",
     "evalue": "'str' object does not support item assignment",
     "output_type": "error",
     "traceback": [
      "\u001b[1;31m---------------------------------------------------------------------------\u001b[0m",
      "\u001b[1;31mTypeError\u001b[0m                                 Traceback (most recent call last)",
      "Cell \u001b[1;32mIn[2], line 2\u001b[0m\n\u001b[0;32m      1\u001b[0m typo \u001b[38;5;241m=\u001b[39m \u001b[38;5;124m\"\u001b[39m\u001b[38;5;124mI Bove python\u001b[39m\u001b[38;5;124m\"\u001b[39m\n\u001b[1;32m----> 2\u001b[0m \u001b[43mtypo\u001b[49m\u001b[43m[\u001b[49m\u001b[38;5;241;43m2\u001b[39;49m\u001b[43m]\u001b[49m \u001b[38;5;241m=\u001b[39m \u001b[38;5;124m\"\u001b[39m\u001b[38;5;124mL\u001b[39m\u001b[38;5;124m\"\u001b[39m\n",
      "\u001b[1;31mTypeError\u001b[0m: 'str' object does not support item assignment"
     ]
    }
   ],
   "source": [
    "typo = \"I Bove python\"\n",
    "typo[2] = \"L\""
   ]
  }
 ],
 "metadata": {
  "kernelspec": {
   "display_name": "Python 3 (ipykernel)",
   "language": "python",
   "name": "python3"
  },
  "language_info": {
   "codemirror_mode": {
    "name": "ipython",
    "version": 3
   },
   "file_extension": ".py",
   "mimetype": "text/x-python",
   "name": "python",
   "nbconvert_exporter": "python",
   "pygments_lexer": "ipython3",
   "version": "3.12.5"
  }
 },
 "nbformat": 4,
 "nbformat_minor": 5
}
