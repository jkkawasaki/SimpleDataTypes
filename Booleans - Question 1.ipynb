{
 "cells": [
  {
   "cell_type": "code",
   "execution_count": 1,
   "id": "390b7a38-c77d-4d10-abbb-6f6864e014a8",
   "metadata": {},
   "outputs": [],
   "source": [
    "#Booleans - Question 1\n",
    "#boolean True + boolean True - boolean False = ?"
   ]
  },
  {
   "cell_type": "code",
   "execution_count": 2,
   "id": "1008f2e3-de49-4086-9dbb-a1208b1d8e50",
   "metadata": {},
   "outputs": [
    {
     "name": "stdout",
     "output_type": "stream",
     "text": [
      "2\n"
     ]
    }
   ],
   "source": [
    "print(True + True - False)"
   ]
  }
 ],
 "metadata": {
  "kernelspec": {
   "display_name": "Python 3 (ipykernel)",
   "language": "python",
   "name": "python3"
  },
  "language_info": {
   "codemirror_mode": {
    "name": "ipython",
    "version": 3
   },
   "file_extension": ".py",
   "mimetype": "text/x-python",
   "name": "python",
   "nbconvert_exporter": "python",
   "pygments_lexer": "ipython3",
   "version": "3.12.5"
  }
 },
 "nbformat": 4,
 "nbformat_minor": 5
}
