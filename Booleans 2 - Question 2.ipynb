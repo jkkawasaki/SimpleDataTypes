{
 "cells": [
  {
   "cell_type": "code",
   "execution_count": null,
   "id": "4db3dfb4-5469-44fb-b7ff-3ee498ca932c",
   "metadata": {},
   "outputs": [],
   "source": [
    "#Booleans 2 - Question 2\n",
    "#logical tracker = True\n",
    "#logical tracker = logical tracker & logical tracker\n",
    "#logical tracker = logical tracker | (logical tracker - logical tracker)\n",
    "#logical tracker  = ?"
   ]
  },
  {
   "cell_type": "code",
   "execution_count": 1,
   "id": "7a653d19-f7f5-4805-84d7-4dc4a8f73950",
   "metadata": {},
   "outputs": [
    {
     "name": "stdout",
     "output_type": "stream",
     "text": [
      "1\n"
     ]
    }
   ],
   "source": [
    "LogicalTracker = True\n",
    "LogicalTracker = LogicalTracker & LogicalTracker\n",
    "LogicalTracker = LogicalTracker | (LogicalTracker - LogicalTracker)\n",
    "print(LogicalTracker)"
   ]
  }
 ],
 "metadata": {
  "kernelspec": {
   "display_name": "Python 3 (ipykernel)",
   "language": "python",
   "name": "python3"
  },
  "language_info": {
   "codemirror_mode": {
    "name": "ipython",
    "version": 3
   },
   "file_extension": ".py",
   "mimetype": "text/x-python",
   "name": "python",
   "nbconvert_exporter": "python",
   "pygments_lexer": "ipython3",
   "version": "3.12.5"
  }
 },
 "nbformat": 4,
 "nbformat_minor": 5
}
